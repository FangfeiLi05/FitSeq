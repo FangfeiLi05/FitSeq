{
 "cells": [
  {
   "cell_type": "code",
   "execution_count": 1,
   "metadata": {},
   "outputs": [],
   "source": [
    "!python evo_simulator.py -i input_EvoSimulation.csv -t 0 3 6 9 12 -r 50 50 50 50 50 -o output"
   ]
  },
  {
   "cell_type": "code",
   "execution_count": 2,
   "metadata": {},
   "outputs": [
    {
     "name": "stdout",
     "output_type": "stream",
     "text": [
      "Iteration 1: -30414.245682629262\n",
      "Iteration 2: -30191.523264383955\n",
      "Iteration 3: -30193.67554684678\n"
     ]
    }
   ],
   "source": [
    "!python pyfitseq.py -i output_EvoSimulation_Read_Number.csv -t 0 3 6 9 12 -o output"
   ]
  },
  {
   "cell_type": "code",
   "execution_count": 4,
   "metadata": {},
   "outputs": [
    {
     "data": {
      "text/plain": [
       "(-0.5, 0.5)"
      ]
     },
     "execution_count": 4,
     "metadata": {},
     "output_type": "execute_result"
    },
    {
     "data": {
      "image/png": "[encoded data removed]",
      "text/plain": [
       "<Figure size 288x288 with 1 Axes>"
      ]
     },
     "metadata": {
      "needs_background": "light"
     },
     "output_type": "display_data"
    }
   ],
   "source": [
    "import numpy as np\n",
    "import pandas as pd\n",
    "import matplotlib.pyplot as plt\n",
    "\n",
    "x_true = np.array(pd.read_csv('output_EvoSimulation_Input_Log.csv')['Fitness'], dtype=float)\n",
    "x_estimate = np.array(pd.read_csv('output_FitSeq.csv')['Estimated_Fitness'], dtype=float)\n",
    "\n",
    "fig = plt.figure(figsize=(4,4))\n",
    "plt.plot(x_true, x_estimate, '.', color='r')\n",
    "plt.plot([-1,1], [-1,1], '--', color='k')\n",
    "\n",
    "plt.xlim(-0.5, 0.5)\n",
    "plt.ylim(-0.5, 0.5)\n"
   ]
  },
  {
   "cell_type": "code",
   "execution_count": 7,
   "metadata": {},
   "outputs": [],
   "source": [
    "!python evo_simulator.py -i input_EvoSimulation.csv -t 0 2 4 6 8 -r 75 75 75 75 50 -n DNA_extraction PCR sequencing -d 300 -p 27 -f w -o output\n"
   ]
  },
  {
   "cell_type": "code",
   "execution_count": 9,
   "metadata": {},
   "outputs": [
    {
     "name": "stdout",
     "output_type": "stream",
     "text": [
      "Iteration 1: -23353.28048381334\n",
      "Iteration 2: -23350.021646627796\n",
      "Iteration 3: -23347.893448332856\n",
      "Iteration 4: -23346.656888508383\n",
      "Iteration 5: -23346.124133524925\n",
      "Iteration 6: -23346.142043201486\n"
     ]
    }
   ],
   "source": [
    "! python pyfitseq.py -i output_EvoSimulation_Read_Number2.csv -t 0 2 6 8 -m 12 -k 2 -g 3 -f w -o output"
   ]
  },
  {
   "cell_type": "code",
   "execution_count": null,
   "metadata": {},
   "outputs": [],
   "source": [
    "import numpy as np\n",
    "import pandas as pd\n",
    "import matplotlib.pyplot as plt\n",
    "\n",
    "x_true = np.array(pd.read_csv('output_EvoSimulation_Input_Log.csv')['Fitness'], dtype=float)\n",
    "x_estimate = np.array(pd.read_csv('output_FitSeq.csv')['Estimated_Fitness'], dtype=float)\n",
    "\n",
    "fig = plt.figure(figsize=(4,4))\n",
    "plt.plot(x_true, x_estimate, '.', color='r')\n",
    "plt.plot([-1,1], [-1,1], '--', color='k')\n",
    "\n",
    "plt.xlim(-0.5, 0.5)\n",
    "plt.ylim(-0.5, 0.5)"
   ]
  }
 ],
 "metadata": {
  "kernelspec": {
   "display_name": "Python 3",
   "language": "python",
   "name": "python3"
  },
  "language_info": {
   "codemirror_mode": {
    "name": "ipython",
    "version": 3
   },
   "file_extension": ".py",
   "mimetype": "text/x-python",
   "name": "python",
   "nbconvert_exporter": "python",
   "pygments_lexer": "ipython3",
   "version": "3.6.8"
  }
 },
 "nbformat": 4,
 "nbformat_minor": 2
}
