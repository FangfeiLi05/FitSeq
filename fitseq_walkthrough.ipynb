{
 "cells": [
  {
   "cell_type": "code",
   "execution_count": 147,
   "metadata": {},
   "outputs": [],
   "source": [
    "!python evo_simulator.py -i input_EvoSimulation.csv -t 0 3 6 9 12 -r 50 50 50 50 50 -o output"
   ]
  },
  {
   "cell_type": "code",
   "execution_count": 151,
   "metadata": {},
   "outputs": [
    {
     "name": "stdout",
     "output_type": "stream",
     "text": [
      "Iteration 1: -30381.511081694654\n",
      "Iteration 2: -30143.201343204935\n",
      "Iteration 3: -30151.346848132467\n"
     ]
    }
   ],
   "source": [
    "!python fitseq.py -i output_EvoSimulation_Read_Number.csv -t 0 3 6 9 12 -o output"
   ]
  },
  {
   "cell_type": "code",
   "execution_count": 152,
   "metadata": {},
   "outputs": [],
   "source": [
    "import numpy as np\n",
    "import pandas as pd\n",
    "\n",
    "x_true = np.array(pd.read_csv('output_EvoSimulation_Input_Log.csv')['Fitness'], dtype=float)\n",
    "x_estimate = np.array(pd.read_csv('output_FitSeq.csv')['Estimated_Fitness'], dtype=float)"
   ]
  },
  {
   "cell_type": "code",
   "execution_count": 153,
   "metadata": {},
   "outputs": [
    {
     "data": {
      "text/plain": [
       "(-0.5, 0.5)"
      ]
     },
     "execution_count": 153,
     "metadata": {},
     "output_type": "execute_result"
    },
    {
     "data": {
      "image/png": "[encoded data removed]",
      "text/plain": [
       "<Figure size 288x288 with 1 Axes>"
      ]
     },
     "metadata": {
      "needs_background": "light"
     },
     "output_type": "display_data"
    }
   ],
   "source": [
    "import matplotlib.pyplot as plt\n",
    "\n",
    "fig = plt.figure(figsize=(4,4))\n",
    "plt.plot(x_true, x_estimate, '.', color='r')\n",
    "plt.plot([-1,1], [-1,1], '--', color='k')\n",
    "\n",
    "plt.xlim(-0.5, 0.5)\n",
    "plt.ylim(-0.5, 0.5)"
   ]
  },
  {
   "cell_type": "code",
   "execution_count": 127,
   "metadata": {},
   "outputs": [
    {
     "name": "stdout",
     "output_type": "stream",
     "text": [
      "Iteration 1: -89192.4023611108\n",
      "Iteration 2: -89180.33410710108\n",
      "Iteration 3: -89190.73822838746\n"
     ]
    }
   ],
   "source": [
    "!python fitseq.py -i Simulated_Pooled_Growth_Reads_10000Genotypes.csv -t 0 8 16 24 -o python_version"
   ]
  },
  {
   "cell_type": "code",
   "execution_count": 131,
   "metadata": {},
   "outputs": [],
   "source": [
    "import numpy as np\n",
    "import pandas as pd\n",
    "\n",
    "x_true = np.array(pd.read_csv('./fitseq_history/FitSeq_MATLAB/Simulated-Pooled-Growth_Fitness_10000Genotypes.csv', header=None)[0], dtype=float)\n",
    "x_estimate_python = np.array(pd.read_csv('python_version2_FitSeq.csv')['Estimated_Fitness'], dtype=float)\n",
    "x_estimate_matlab = np.array(pd.read_csv('./fitseq_history/FitSeq_MATLAB/Test_Fit-Seq_result_20191105-104905381_EstimatedFitness.csv', header=None), dtype=float)\n"
   ]
  },
  {
   "cell_type": "code",
   "execution_count": 132,
   "metadata": {},
   "outputs": [
    {
     "data": {
      "text/plain": [
       "(-1, 0.8)"
      ]
     },
     "execution_count": 132,
     "metadata": {},
     "output_type": "execute_result"
    },
    {
     "data": {
      "image/png": "[encoded data removed]",
      "text/plain": [
       "<Figure size 360x360 with 1 Axes>"
      ]
     },
     "metadata": {
      "needs_background": "light"
     },
     "output_type": "display_data"
    }
   ],
   "source": [
    "import matplotlib.pyplot as plt\n",
    "\n",
    "fig = plt.figure(figsize=(5,5))\n",
    "plt.plot(x_true, x_estimate_python, '.', color='b')\n",
    "#plt.plot(x_true, x_estimate_matlab, '.', color='r')\n",
    "plt.plot([-1,1], [-1,1], '--', color='k')\n",
    "\n",
    "plt.xlim(-1, 0.8)\n",
    "plt.ylim(-1, 0.8)"
   ]
  },
  {
   "cell_type": "code",
   "execution_count": null,
   "metadata": {},
   "outputs": [],
   "source": [
    "import matplotlib.pyplot as plt\n",
    "\n",
    "counts, bins = np.histogram(fitness_est, bins=np.arange(-1,1,0.02), density=None)\n",
    "plt.bar((bins[0:-1] + bins[1:])/2, counts, width=0.02)"
   ]
  },
  {
   "cell_type": "code",
   "execution_count": null,
   "metadata": {},
   "outputs": [],
   "source": [
    "x_estimate = np.array(pd.read_csv('output_FitSeq.csv')['Estimated_Fitness'], dtype=float)"
   ]
  },
  {
   "cell_type": "code",
   "execution_count": 188,
   "metadata": {},
   "outputs": [
    {
     "ename": "AttributeError",
     "evalue": "'numpy.ndarray' object has no attribute '_constructor_expanddim'",
     "output_type": "error",
     "traceback": [
      "\u001b[0;31m---------------------------------------------------------------------------\u001b[0m",
      "\u001b[0;31mAttributeError\u001b[0m                            Traceback (most recent call last)",
      "\u001b[0;32m<ipython-input-188-ad55608e8dc4>\u001b[0m in \u001b[0;36m<module>\u001b[0;34m\u001b[0m\n\u001b[1;32m      1\u001b[0m \u001b[0mA\u001b[0m \u001b[0;34m=\u001b[0m \u001b[0mnp\u001b[0m\u001b[0;34m.\u001b[0m\u001b[0marray\u001b[0m\u001b[0;34m(\u001b[0m\u001b[0mpd\u001b[0m\u001b[0;34m.\u001b[0m\u001b[0mread_csv\u001b[0m\u001b[0;34m(\u001b[0m\u001b[0;34m'output_FitSeq.csv'\u001b[0m\u001b[0;34m)\u001b[0m\u001b[0;34m[\u001b[0m\u001b[0;34m'Estimated_Read_Number'\u001b[0m\u001b[0;34m]\u001b[0m\u001b[0;34m)\u001b[0m\u001b[0;34m\u001b[0m\u001b[0;34m\u001b[0m\u001b[0m\n\u001b[0;32m----> 2\u001b[0;31m \u001b[0mB\u001b[0m \u001b[0;34m=\u001b[0m \u001b[0mpd\u001b[0m\u001b[0;34m.\u001b[0m\u001b[0mSeries\u001b[0m\u001b[0;34m.\u001b[0m\u001b[0mto_frame\u001b[0m\u001b[0;34m(\u001b[0m\u001b[0mA\u001b[0m\u001b[0;34m)\u001b[0m\u001b[0;34m\u001b[0m\u001b[0;34m\u001b[0m\u001b[0m\n\u001b[0m",
      "\u001b[0;32m~/anaconda3/lib/python3.6/site-packages/pandas/core/series.py\u001b[0m in \u001b[0;36mto_frame\u001b[0;34m(self, name)\u001b[0m\n\u001b[1;32m   1510\u001b[0m         \"\"\"\n\u001b[1;32m   1511\u001b[0m         \u001b[0;32mif\u001b[0m \u001b[0mname\u001b[0m \u001b[0;32mis\u001b[0m \u001b[0;32mNone\u001b[0m\u001b[0;34m:\u001b[0m\u001b[0;34m\u001b[0m\u001b[0;34m\u001b[0m\u001b[0m\n\u001b[0;32m-> 1512\u001b[0;31m             \u001b[0mdf\u001b[0m \u001b[0;34m=\u001b[0m \u001b[0mself\u001b[0m\u001b[0;34m.\u001b[0m\u001b[0m_constructor_expanddim\u001b[0m\u001b[0;34m(\u001b[0m\u001b[0mself\u001b[0m\u001b[0;34m)\u001b[0m\u001b[0;34m\u001b[0m\u001b[0;34m\u001b[0m\u001b[0m\n\u001b[0m\u001b[1;32m   1513\u001b[0m         \u001b[0;32melse\u001b[0m\u001b[0;34m:\u001b[0m\u001b[0;34m\u001b[0m\u001b[0;34m\u001b[0m\u001b[0m\n\u001b[1;32m   1514\u001b[0m             \u001b[0mdf\u001b[0m \u001b[0;34m=\u001b[0m \u001b[0mself\u001b[0m\u001b[0;34m.\u001b[0m\u001b[0m_constructor_expanddim\u001b[0m\u001b[0;34m(\u001b[0m\u001b[0;34m{\u001b[0m\u001b[0mname\u001b[0m\u001b[0;34m:\u001b[0m \u001b[0mself\u001b[0m\u001b[0;34m}\u001b[0m\u001b[0;34m)\u001b[0m\u001b[0;34m\u001b[0m\u001b[0;34m\u001b[0m\u001b[0m\n",
      "\u001b[0;31mAttributeError\u001b[0m: 'numpy.ndarray' object has no attribute '_constructor_expanddim'"
     ]
    }
   ],
   "source": [
    "A = np.array(pd.read_csv('output_FitSeq.csv')['Estimated_Read_Number'])\n"
   ]
  },
  {
   "cell_type": "code",
   "execution_count": 190,
   "metadata": {},
   "outputs": [
    {
     "data": {
      "text/plain": [
       "array([['[ 44  59 116  95 123]'],\n",
       "       ['[ 38  53 144 168 230]'],\n",
       "       ['[44 23 11  8  5]'],\n",
       "       ...,\n",
       "       ['[ 46  56  70 109  97]'],\n",
       "       ['[40 32 38 23  9]'],\n",
       "       ['[ 43  48  52  95 111]']], dtype=object)"
      ]
     },
     "execution_count": 190,
     "metadata": {},
     "output_type": "execute_result"
    }
   ],
   "source": [
    "A = pd.read_csv('output_FitSeq.csv')['Estimated_Read_Number']\n",
    "B = pd.Series.to_frame(A)\n",
    "np.array(B)"
   ]
  },
  {
   "cell_type": "code",
   "execution_count": 202,
   "metadata": {},
   "outputs": [
    {
     "data": {
      "text/plain": [
       "'[ 44  59 116  95 123]'"
      ]
     },
     "execution_count": 202,
     "metadata": {},
     "output_type": "execute_result"
    }
   ],
   "source": [
    "A[0]"
   ]
  },
  {
   "cell_type": "code",
   "execution_count": 205,
   "metadata": {},
   "outputs": [
    {
     "data": {
      "text/plain": [
       "0       44  59 116  95 123]\n",
       "1       38  53 144 168 230]\n",
       "2          [44 23 11  8  5]\n",
       "3       49  55  60 105  81]\n",
       "4          [63 32 12 12  7]\n",
       "5          [48 34 26 16  8]\n",
       "6          [49 26 16  8  2]\n",
       "7          [53 44 45 47 33]\n",
       "8          [46 48 33 55 53]\n",
       "9       71  91 121 107 149]\n",
       "10         [58 44 38 24 28]\n",
       "11         [53 39 33 23 18]\n",
       "12         [36 41 71 60 55]\n",
       "13         [46 49 80 53 38]\n",
       "14         [58 67 88 76 93]\n",
       "15         [52 46 41 25 32]\n",
       "16         [48 49 66 68 57]\n",
       "17         [44 26 14  9  3]\n",
       "18         [50 39 39 27 25]\n",
       "19         [55 46 48 46 31]\n",
       "20         [65 51 37 19  7]\n",
       "21         [59 56 57 56 37]\n",
       "22         [48 41 33 35 28]\n",
       "23         [72 42 24 16 12]\n",
       "24         [44 38 39 33 29]\n",
       "25         [39 38 58 54 45]\n",
       "26         [48 57 96 91 78]\n",
       "27         [34 30 33 22 13]\n",
       "28         [55 59 74 58 92]\n",
       "29         [40 32 35 32 16]\n",
       "               ...         \n",
       "1970       [47 28 19 19  8]\n",
       "1971       [47 23 15 11  8]\n",
       "1972       [46 38 57 32 27]\n",
       "1973       [51 35 22  7  4]\n",
       "1974       [57 58 67 66 48]\n",
       "1975       [49 17  7  4  1]\n",
       "1976       [33 27 33 35 18]\n",
       "1977    43  73 146 310 415]\n",
       "1978       [67 36 17  7  2]\n",
       "1979    46  79 195 277 411]\n",
       "1980    43  53  79  89 113]\n",
       "1981       [46 23 24 15  7]\n",
       "1982    48  66 118 126 188]\n",
       "1983       [64 33 21  9  2]\n",
       "1984    55  75  87 147 162]\n",
       "1985       [47 31 31 20  9]\n",
       "1986       [56 24 10  6  2]\n",
       "1987       [41 28 21 19 16]\n",
       "1988       [58 24 13  6  2]\n",
       "1989       [63 45 46 22 20]\n",
       "1990       [48 40 50 41 24]\n",
       "1991       [57 48 39 35 36]\n",
       "1992       [38 35 55 45 46]\n",
       "1993       [50 40 26 10 12]\n",
       "1994       [46 20 14  6  2]\n",
       "1995       [49 57 80 75 74]\n",
       "1996       [57 34 22 15  5]\n",
       "1997    46  56  70 109  97]\n",
       "1998       [40 32 38 23  9]\n",
       "1999    43  48  52  95 111]\n",
       "Name: Estimated_Read_Number, Length: 2000, dtype: object"
      ]
     },
     "execution_count": 205,
     "metadata": {},
     "output_type": "execute_result"
    }
   ],
   "source": [
    "A = pd.read_csv('output_FitSeq.csv')['Estimated_Read_Number']\n",
    "B = pd.Series(A).str.replace('[ ', '', regex=False)\n",
    "B"
   ]
  },
  {
   "cell_type": "code",
   "execution_count": 216,
   "metadata": {},
   "outputs": [
    {
     "data": {
      "text/plain": [
       "2000"
      ]
     },
     "execution_count": 216,
     "metadata": {},
     "output_type": "execute_result"
    }
   ],
   "source": [
    "len(F)"
   ]
  },
  {
   "cell_type": "code",
   "execution_count": 223,
   "metadata": {},
   "outputs": [
    {
     "ename": "TypeError",
     "evalue": "'numpy.ndarray' object is not callable",
     "output_type": "error",
     "traceback": [
      "\u001b[0;31m---------------------------------------------------------------------------\u001b[0m",
      "\u001b[0;31mTypeError\u001b[0m                                 Traceback (most recent call last)",
      "\u001b[0;32m<ipython-input-223-cc6feb3c42d6>\u001b[0m in \u001b[0;36m<module>\u001b[0;34m\u001b[0m\n\u001b[1;32m      1\u001b[0m \u001b[0;32mimport\u001b[0m \u001b[0mitertools\u001b[0m\u001b[0;34m\u001b[0m\u001b[0;34m\u001b[0m\u001b[0m\n\u001b[0;32m----> 2\u001b[0;31m \u001b[0mlist\u001b[0m\u001b[0;34m(\u001b[0m\u001b[0mitertools\u001b[0m\u001b[0;34m.\u001b[0m\u001b[0mzip_longest\u001b[0m\u001b[0;34m(\u001b[0m\u001b[0;34m*\u001b[0m\u001b[0mlist\u001b[0m\u001b[0;34m(\u001b[0m\u001b[0mtempt\u001b[0m\u001b[0;34m.\u001b[0m\u001b[0mvalues\u001b[0m\u001b[0;34m(\u001b[0m\u001b[0;34m)\u001b[0m\u001b[0;34m)\u001b[0m\u001b[0;34m)\u001b[0m\u001b[0;34m)\u001b[0m\u001b[0;34m\u001b[0m\u001b[0;34m\u001b[0m\u001b[0m\n\u001b[0m",
      "\u001b[0;31mTypeError\u001b[0m: 'numpy.ndarray' object is not callable"
     ]
    }
   ],
   "source": [
    "import itertools\n",
    "list(itertools.zip_longest(*list(tempt.values())))"
   ]
  },
  {
   "cell_type": "code",
   "execution_count": 228,
   "metadata": {},
   "outputs": [
    {
     "ename": "TypeError",
     "evalue": "'numpy.ndarray' object is not callable",
     "output_type": "error",
     "traceback": [
      "\u001b[0;31m---------------------------------------------------------------------------\u001b[0m",
      "\u001b[0;31mTypeError\u001b[0m                                 Traceback (most recent call last)",
      "\u001b[0;32m<ipython-input-228-abbe240b88a6>\u001b[0m in \u001b[0;36m<module>\u001b[0;34m\u001b[0m\n\u001b[0;32m----> 1\u001b[0;31m \u001b[0mtempt\u001b[0m\u001b[0;34m.\u001b[0m\u001b[0mvalues\u001b[0m\u001b[0;34m(\u001b[0m\u001b[0;34m)\u001b[0m\u001b[0;34m\u001b[0m\u001b[0;34m\u001b[0m\u001b[0m\n\u001b[0m",
      "\u001b[0;31mTypeError\u001b[0m: 'numpy.ndarray' object is not callable"
     ]
    }
   ],
   "source": [
    "tempt.values()"
   ]
  },
  {
   "cell_type": "code",
   "execution_count": 250,
   "metadata": {},
   "outputs": [
    {
     "data": {
      "text/plain": [
       "[\"'44','59','116','95','123'\"]"
      ]
     },
     "execution_count": 250,
     "metadata": {},
     "output_type": "execute_result"
    }
   ],
   "source": [
    "F[0][:].split()"
   ]
  },
  {
   "cell_type": "code",
   "execution_count": 245,
   "metadata": {},
   "outputs": [],
   "source": [
    "A = pd.read_csv('output_FitSeq.csv')['Estimated_Read_Number']\n",
    "B = pd.Series(A).str.replace('[ ', '[', regex=False)\n",
    "C = pd.Series(B).str.replace('[', \"'\", regex=False)\n",
    "D = pd.Series(C).str.replace(']', \"'\", regex=False)\n",
    "E = pd.Series(D).str.replace('  ', ' ', regex=False)\n",
    "F = pd.Series(E).str.replace(' ', \"','\", regex=False)\n",
    "\n",
    "tempt = pd.DataFrame(F)\n",
    "tempt.to_csv('test.csv', index=False, header=False)\n",
    "\n"
   ]
  },
  {
   "cell_type": "code",
   "execution_count": 246,
   "metadata": {},
   "outputs": [
    {
     "data": {
      "text/plain": [
       "0        '44','59','116','95','123'\n",
       "1       '38','53','144','168','230'\n",
       "2            '44','23','11','8','5'\n",
       "3         '49','55','60','105','81'\n",
       "4           '63','32','12','12','7'\n",
       "5           '48','34','26','16','8'\n",
       "6            '49','26','16','8','2'\n",
       "7          '53','44','45','47','33'\n",
       "8          '46','48','33','55','53'\n",
       "9       '71','91','121','107','149'\n",
       "10         '58','44','38','24','28'\n",
       "11         '53','39','33','23','18'\n",
       "12         '36','41','71','60','55'\n",
       "13         '46','49','80','53','38'\n",
       "14         '58','67','88','76','93'\n",
       "15         '52','46','41','25','32'\n",
       "16         '48','49','66','68','57'\n",
       "17           '44','26','14','9','3'\n",
       "18         '50','39','39','27','25'\n",
       "19         '55','46','48','46','31'\n",
       "20          '65','51','37','19','7'\n",
       "21         '59','56','57','56','37'\n",
       "22         '48','41','33','35','28'\n",
       "23         '72','42','24','16','12'\n",
       "24         '44','38','39','33','29'\n",
       "25         '39','38','58','54','45'\n",
       "26         '48','57','96','91','78'\n",
       "27         '34','30','33','22','13'\n",
       "28         '55','59','74','58','92'\n",
       "29         '40','32','35','32','16'\n",
       "                   ...             \n",
       "1970        '47','28','19','19','8'\n",
       "1971        '47','23','15','11','8'\n",
       "1972       '46','38','57','32','27'\n",
       "1973         '51','35','22','7','4'\n",
       "1974       '57','58','67','66','48'\n",
       "1975          '49','17','7','4','1'\n",
       "1976       '33','27','33','35','18'\n",
       "1977    '43','73','146','310','415'\n",
       "1978         '67','36','17','7','2'\n",
       "1979    '46','79','195','277','411'\n",
       "1980      '43','53','79','89','113'\n",
       "1981        '46','23','24','15','7'\n",
       "1982    '48','66','118','126','188'\n",
       "1983         '64','33','21','9','2'\n",
       "1984     '55','75','87','147','162'\n",
       "1985        '47','31','31','20','9'\n",
       "1986         '56','24','10','6','2'\n",
       "1987       '41','28','21','19','16'\n",
       "1988         '58','24','13','6','2'\n",
       "1989       '63','45','46','22','20'\n",
       "1990       '48','40','50','41','24'\n",
       "1991       '57','48','39','35','36'\n",
       "1992       '38','35','55','45','46'\n",
       "1993       '50','40','26','10','12'\n",
       "1994         '46','20','14','6','2'\n",
       "1995       '49','57','80','75','74'\n",
       "1996        '57','34','22','15','5'\n",
       "1997      '46','56','70','109','97'\n",
       "1998        '40','32','38','23','9'\n",
       "1999      '43','48','52','95','111'\n",
       "Name: Estimated_Read_Number, Length: 2000, dtype: object"
      ]
     },
     "execution_count": 246,
     "metadata": {},
     "output_type": "execute_result"
    }
   ],
   "source": [
    "F"
   ]
  },
  {
   "cell_type": "code",
   "execution_count": 267,
   "metadata": {},
   "outputs": [],
   "source": [
    "import csv\n",
    "\n",
    "A = pd.read_csv('output_FitSeq.csv')['Estimated_Read_Number']\n",
    "B = pd.Series(A).str.replace('[ ', '[', regex=False)\n",
    "C = pd.Series(B).str.replace('[', '', regex=False)\n",
    "D = pd.Series(C).str.replace(']', '', regex=False)\n",
    "E = pd.Series(D).str.replace('  ', ' ', regex=False)\n",
    "#F = pd.Series(E).str.replace(' ', ',', regex=False)\n",
    "\n",
    "#tempt = pd.DataFrame(F)\n",
    "#tempt.to_csv('test.csv', index=False, header=False)\n",
    "\n",
    "with open('test.csv', mode='w') as f:\n",
    "    w = csv.writer(f, delimiter=',', quotechar='\"', quoting=csv.QUOTE_MINIMAL)\n",
    "    for i in range(len(F)):\n",
    "        w.writerow(E[i].split())\n"
   ]
  },
  {
   "cell_type": "code",
   "execution_count": 271,
   "metadata": {},
   "outputs": [],
   "source": [
    "import csv\n",
    "\n",
    "A = pd.read_csv('output_FitSeq.csv')['Estimated_Read_Number']\n",
    "B = pd.Series(A).str.replace('[', '', regex=False)\n",
    "C = pd.Series(B).str.replace(']', '', regex=False)\n",
    "\n",
    "with open('test.csv', mode='w') as f:\n",
    "    w = csv.writer(f, delimiter=',', quotechar='\"', quoting=csv.QUOTE_MINIMAL)\n",
    "    for i in range(len(C)):\n",
    "        w.writerow(C[i].split())\n",
    "        \n",
    "read_num_seq = np.array(pd.read_csv('test.csv', header=None), dtype=int)"
   ]
  },
  {
   "cell_type": "code",
   "execution_count": 275,
   "metadata": {},
   "outputs": [
    {
     "data": {
      "text/plain": [
       "'Estimated_Read_Number_t1'"
      ]
     },
     "execution_count": 275,
     "metadata": {},
     "output_type": "execute_result"
    }
   ],
   "source": [
    "i = 1\n",
    "'Estimated_Read_Number_t%d' % i"
   ]
  },
  {
   "cell_type": "code",
   "execution_count": 293,
   "metadata": {},
   "outputs": [
    {
     "data": {
      "text/plain": [
       "array([[ 44,  59, 116,  95, 123],\n",
       "       [ 38,  53, 144, 168, 230],\n",
       "       [ 44,  23,  11,   8,   5],\n",
       "       ...,\n",
       "       [ 46,  56,  70, 109,  97],\n",
       "       [ 40,  32,  38,  23,   9],\n",
       "       [ 43,  48,  52,  95, 111]])"
      ]
     },
     "execution_count": 293,
     "metadata": {},
     "output_type": "execute_result"
    }
   ],
   "source": [
    "tempt = pd.read_csv('output_FitSeq.csv')\n",
    "read_num_seq = np.array(tempt[tempt.columns[3:]], dtype=int)\n",
    "read_num_seq"
   ]
  },
  {
   "cell_type": "code",
   "execution_count": 299,
   "metadata": {},
   "outputs": [
    {
     "ename": "ValueError",
     "evalue": "invalid literal for int() with base 10: 'Estimated_Fitness'",
     "output_type": "error",
     "traceback": [
      "\u001b[0;31m---------------------------------------------------------------------------\u001b[0m",
      "\u001b[0;31mValueError\u001b[0m                                Traceback (most recent call last)",
      "\u001b[0;32m<ipython-input-299-3a13b1978ec5>\u001b[0m in \u001b[0;36m<module>\u001b[0;34m\u001b[0m\n\u001b[0;32m----> 1\u001b[0;31m \u001b[0mread_num_seq\u001b[0m \u001b[0;34m=\u001b[0m \u001b[0mnp\u001b[0m\u001b[0;34m.\u001b[0m\u001b[0marray\u001b[0m\u001b[0;34m(\u001b[0m\u001b[0mpd\u001b[0m\u001b[0;34m.\u001b[0m\u001b[0mread_csv\u001b[0m\u001b[0;34m(\u001b[0m\u001b[0;34m'output_FitSeq.csv'\u001b[0m\u001b[0;34m,\u001b[0m \u001b[0mheader\u001b[0m\u001b[0;34m=\u001b[0m\u001b[0;32mNone\u001b[0m\u001b[0;34m)\u001b[0m\u001b[0;34m,\u001b[0m \u001b[0mdtype\u001b[0m\u001b[0;34m=\u001b[0m\u001b[0mint\u001b[0m\u001b[0;34m)\u001b[0m\u001b[0;34m\u001b[0m\u001b[0;34m\u001b[0m\u001b[0m\n\u001b[0m\u001b[1;32m      2\u001b[0m \u001b[0mread_num_seq\u001b[0m\u001b[0;34m.\u001b[0m\u001b[0mshape\u001b[0m\u001b[0;34m\u001b[0m\u001b[0;34m\u001b[0m\u001b[0m\n",
      "\u001b[0;31mValueError\u001b[0m: invalid literal for int() with base 10: 'Estimated_Fitness'"
     ]
    }
   ],
   "source": [
    "read_num_seq = np.array(pd.read_csv('output_FitSeq.csv', header=None), dtype=int)\n",
    "read_num_seq.shape"
   ]
  },
  {
   "cell_type": "code",
   "execution_count": 307,
   "metadata": {},
   "outputs": [
    {
     "data": {
      "text/plain": [
       "array([[ 44,  59, 116,  95, 123],\n",
       "       [ 38,  53, 144, 168, 230],\n",
       "       [ 44,  23,  11,   8,   5],\n",
       "       ...,\n",
       "       [ 46,  56,  70, 109,  97],\n",
       "       [ 40,  32,  38,  23,   9],\n",
       "       [ 43,  48,  52,  95, 111]])"
      ]
     },
     "execution_count": 307,
     "metadata": {},
     "output_type": "execute_result"
    }
   ],
   "source": [
    "read_num_seq = np.array(pd.read_csv('output_FitSeq.csv').iloc[:,3:], dtype=int)\n",
    "read_num_seq"
   ]
  },
  {
   "cell_type": "code",
   "execution_count": null,
   "metadata": {},
   "outputs": [],
   "source": []
  }
 ],
 "metadata": {
  "kernelspec": {
   "display_name": "Python 3",
   "language": "python",
   "name": "python3"
  },
  "language_info": {
   "codemirror_mode": {
    "name": "ipython",
    "version": 3
   },
   "file_extension": ".py",
   "mimetype": "text/x-python",
   "name": "python",
   "nbconvert_exporter": "python",
   "pygments_lexer": "ipython3",
   "version": "3.6.8"
  }
 },
 "nbformat": 4,
 "nbformat_minor": 2
}
